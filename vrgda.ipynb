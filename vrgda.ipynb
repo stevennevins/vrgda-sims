{
 "cells": [
  {
   "cell_type": "markdown",
   "id": "6fd3a14b",
   "metadata": {},
   "source": []
  },
  {
   "cell_type": "code",
   "execution_count": null,
   "id": "d2fcf776",
   "metadata": {},
   "outputs": [],
   "source": [
    "# f(n) - defines a supply schedule\n",
    "# k - decay constant makes it a dutch auction by decreasing price over time\n",
    "\n",
    "## A consequence of the VRGDA objective is that if the th NFT is purchased \n",
    "# exactly at the target time according to its issuance schedule, its price will be target price.\n",
    "def simulate_vrgda(base_price, total_time, f, inv_f, k, buys):\n",
    "    buy_index = 0\n",
    "    times = []\n",
    "    prices = []\n",
    "    bought = []\n",
    "    target = []\n",
    "    total_bought = 0\n",
    "    for time_step in range(round(total_time)):\n",
    "        if buy_index < len(buys):\n",
    "            buy_time, buy_amount = buys[buy_index]\n",
    "            if time_step >= buy_time:\n",
    "                total_bought += buy_amount\n",
    "                buy_index += 1\n",
    "        times.append(time_step)\n",
    "        bought.append(total_bought)\n",
    "        target.append(f(time_step))\n",
    "        prices.append(base_price * (1 - k)**(time_step - inv_f(total_bought)))\n",
    "    return times, prices, bought, target"
   ]
  },
  {
   "cell_type": "code",
   "execution_count": null,
   "id": "45dc4dd5",
   "metadata": {},
   "outputs": [],
   "source": [
    "import matplotlib.pyplot as plt\n",
    "import math\n",
    "%matplotlib inline"
   ]
  },
  {
   "cell_type": "code",
   "execution_count": null,
   "id": "c16c894f",
   "metadata": {},
   "outputs": [],
   "source": [
    "buys=[(10, 10), (20, 15), (30, 10)]\n",
    "times, prices, bought, target  = simulate_vrgda(50, 50, lambda n: n, lambda n: n, 0.05, buys)\n",
    "plt.plot(times, prices, 'b')\n",
    "plt.axhline(y = 50, color = 'b', linestyle = '--')\n",
    "plt.plot(times, bought, 'g')\n",
    "plt.plot(times, target, 'r', linestyle='--')\n",
    "plt.title('VRGDA $n$')\n",
    "plt.legend(['price', 'target price', 'number sold', 'target sold'])"
   ]
  },
  {
   "cell_type": "code",
   "execution_count": null,
   "id": "bf93f14d",
   "metadata": {},
   "outputs": [],
   "source": [
    "#buy = (time, amount)\n",
    "buys = [(1, 1),(9,2),()]\n",
    "times, prices, bought, target  = simulate_vrgda(10, 50, lambda n: n**0.5, lambda n: n**2, 0.05, buys)\n",
    "#plt.plot(times, prices, 'b')\n",
    "plt.plot(times, bought, 'r')\n",
    "plt.plot(times, target, 'g')\n",
    "plt.title('VRGDA $sqrt(n)$')\n",
    "plt.legend(['price', 'total bought', 'target sold'])"
   ]
  },
  {
   "cell_type": "code",
   "execution_count": null,
   "id": "cfcefb6a",
   "metadata": {},
   "outputs": [],
   "source": [
    "#buy = (time, amount)\n",
    "buys = [(1, 1),(9,2)]\n",
    "times, prices, bought, target  = simulate_vrgda(5, 50, lambda n: math.log(n+1), lambda n: math.e**n, 0.05, buys)\n",
    "plt.axhline(y = 5, color = 'b', linestyle = '--')\n",
    "plt.plot(times, prices, 'b')\n",
    "plt.plot(times, bought, 'r')\n",
    "plt.plot(times, target, 'g')\n",
    "plt.title('VRGDA $log(n)$')\n",
    "plt.legend(['price', 'total bought', 'target sold'])"
   ]
  },
  {
   "cell_type": "code",
   "execution_count": null,
   "id": "7b51f2e9",
   "metadata": {},
   "outputs": [],
   "source": []
  },
  {
   "cell_type": "code",
   "execution_count": null,
   "id": "db68dcb3",
   "metadata": {},
   "outputs": [],
   "source": []
  }
 ],
 "metadata": {
  "kernelspec": {
   "display_name": "venv",
   "language": "python",
   "name": "venv"
  },
  "language_info": {
   "codemirror_mode": {
    "name": "ipython",
    "version": 3
   },
   "file_extension": ".py",
   "mimetype": "text/x-python",
   "name": "python",
   "nbconvert_exporter": "python",
   "pygments_lexer": "ipython3",
   "version": "3.10.8"
  }
 },
 "nbformat": 4,
 "nbformat_minor": 5
}
